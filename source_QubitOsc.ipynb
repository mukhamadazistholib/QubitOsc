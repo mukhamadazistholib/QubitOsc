{
 "cells": [
  {
   "cell_type": "markdown",
   "id": "c29c58d8",
   "metadata": {},
   "source": [
    "# QuTiP lecture: Jaynes-Cummings-like model in the ultrastrong coupling regime"
   ]
  },
  {
   "cell_type": "markdown",
   "id": "1e52043a",
   "metadata": {},
   "source": [
    "Author: J. R. Johansson (robert@riken.jp), http://dml.riken.jp/~rob/\n",
    "\n",
    "The latest version of this [IPython notebook] lecture is available at [http://github.com/jrjohansson/qutip-lectures](http://github.com/jrjohansson/qutip-lectures).\n",
    "\n",
    "The other notebooks in this lecture series are indexed at [http://jrjohansson.github.com](http://jrjohansson.github.com)."
   ]
  },
  {
   "cell_type": "code",
   "execution_count": 24,
   "id": "deaa3ee5",
   "metadata": {},
   "outputs": [],
   "source": [
    "# setup the matplotlib graphics library and configure it to show figures inline in the notebook\n",
    "%matplotlib inline\n",
    "import matplotlib.pyplot as plt\n",
    "import numpy as np"
   ]
  },
  {
   "cell_type": "code",
   "execution_count": 25,
   "id": "0a3584dc",
   "metadata": {},
   "outputs": [],
   "source": [
    "# make qutip available in the rest of the notebook\n",
    "from qutip import *"
   ]
  },
  {
   "cell_type": "markdown",
   "id": "ab059641",
   "metadata": {},
   "source": [
    "# Introduction\n",
    "\n",
    "Dalam Model Jaynes-Cumming, ungkapan interaksi-dipol antara atom dan medan kavitas dianggap lemah, sehingga pendekatan gelombang rotasi dapat ditampilkan. Untuk gaya kuat kopel besar antara atom dan medan kavitas, RWA tidak bisa ditentukan, dan untuk properti yang menarik dari gaya kuat kopel yang sangat besar dari atom-dasar kavitas dapat diamati. \n",
    "\n",
    "To explore this using QuTiP, consider the Hamiltonian\n",
    "\n",
    "### $H = \\hbar \\omega_c a^\\dagger a + \\frac{1}{2}\\hbar\\omega_a\\sigma_z + \\hbar g(a^\\dagger + a)(\\sigma_- + \\sigma_+)$.\n",
    "\n",
    "Note that here we have not transformed the interaction part of the Hamiltonian using the RWA, for which the Hamiltonian would have been\n",
    "\n",
    "### $H_{\\rm RWA} = \\hbar \\omega_c a^\\dagger a + \\frac{1}{2}\\hbar\\omega_a\\sigma_z + \\hbar g(a^\\dagger\\sigma_- + a\\sigma_+)$.\n",
    "\n",
    "In this notebook we will calculate the ground state of the Hamiltonian $H$ as a function of the interaction strength $g$ (try to set `use_rwa = True` to use $H_{\\rm RWA}$ instead).\n",
    "\n",
    "The regime $g$ is large compared with all other energy scales in the Hamiltonian $H$ is called the ultrastrong coupling regime, and has been an active topic of research in recent years. See references below.\n",
    "\n",
    "\n",
    "References:\n",
    "\n",
    " * [P. Nataf et al., Phys. Rev. Lett. 104, 023601 (2010)](http://dx.doi.org/10.1103/PhysRevLett.104.023601)\n",
    "\n",
    " * [J. Casanova et al., Phys. Rev. Lett. 105, 26360 (2010)](http://dx.doi.org/10.1103/PhysRevLett.105.263603).\n",
    "\n",
    " * [S. Ashhab et al., Phys. Rev. A 81, 042311 (2010)](http://dx.doi.org/10.1103/PhysRevA.81.042311)"
   ]
  },
  {
   "cell_type": "markdown",
   "id": "2acf63c4",
   "metadata": {},
   "source": [
    "### Problem parameters\n",
    "\n",
    "\n",
    "Here we use units where $\\hbar = 1$: "
   ]
  },
  {
   "cell_type": "code",
   "execution_count": 26,
   "id": "8971dae6",
   "metadata": {},
   "outputs": [],
   "source": [
    "wc = 1.0  * 2 * np.pi  # cavity frequency\n",
    "wa = 1.0  * 2 * np.pi  # atom frequency\n",
    "\n",
    "N = 15              # number of cavity fock states\n",
    "use_rwa = False"
   ]
  },
  {
   "cell_type": "markdown",
   "id": "ee41b85e",
   "metadata": {},
   "source": [
    "### Setup the operators and the Hamiltonian"
   ]
  },
  {
   "cell_type": "code",
   "execution_count": 27,
   "id": "b9788ccd",
   "metadata": {},
   "outputs": [],
   "source": [
    "# operators\n",
    "a  = tensor(destroy(N), qeye(2))\n",
    "sm = tensor(qeye(N), destroy(2))\n",
    "\n",
    "na = sm.dag() * sm  # atom\n",
    "nc = a.dag() * a    # cavity\n",
    "\n",
    "# decoupled Hamiltonian\n",
    "H0 = wc * a.dag() * a + wa * sm.dag() * sm\n",
    "\n",
    "# interaction Hamiltonian\n",
    "if use_rwa:\n",
    "    H1 = (a.dag() * sm + a * sm.dag())\n",
    "else:\n",
    "    H1 = (a.dag() + a) * (sm + sm.dag())"
   ]
  },
  {
   "cell_type": "markdown",
   "id": "786b12eb",
   "metadata": {},
   "source": [
    "## Find ground state as a function of coupling strength"
   ]
  },
  {
   "cell_type": "code",
   "execution_count": 28,
   "id": "431d7672",
   "metadata": {},
   "outputs": [],
   "source": [
    "g_vec = np.linspace(0, 2.0, 101) * 2 * np.pi # coupling strength vector\n",
    "\n",
    "psi_list = []\n",
    "\n",
    "for g in g_vec:\n",
    "\n",
    "    H = H0 + g * H1\n",
    "\n",
    "    # find the groundstate and its energy\n",
    "    gnd_energy, gnd_state = H.groundstate()\n",
    "    \n",
    "    # store the ground state\n",
    "    psi_list.append(gnd_state)"
   ]
  },
  {
   "cell_type": "markdown",
   "id": "9c86d9f4",
   "metadata": {},
   "source": [
    "Calculate the cavity and atom excitation probabilities as for the calculated ground states:"
   ]
  },
  {
   "cell_type": "code",
   "execution_count": 29,
   "id": "07187fe2",
   "metadata": {},
   "outputs": [],
   "source": [
    "na_expt = expect(na, psi_list) # qubit  occupation probability\n",
    "nc_expt = expect(nc, psi_list) # cavity occupation probability"
   ]
  },
  {
   "cell_type": "markdown",
   "id": "85e52787",
   "metadata": {},
   "source": [
    "Plot the ground state occupation probabilities of the cavity and the atom as a function of coupling strenght. Note that for large coupling strength (the ultrastrong coupling regime, where $g > \\omega_a,\\omega_c$), the ground state has both photonic and atomic excitations."
   ]
  },
  {
   "cell_type": "code",
   "execution_count": 30,
   "id": "97a8018d",
   "metadata": {},
   "outputs": [
    {
     "data": {
      "image/png": "[encoded data removed]",
      "text/plain": [
       "<Figure size 576x288 with 1 Axes>"
      ]
     },
     "metadata": {
      "needs_background": "light"
     },
     "output_type": "display_data"
    }
   ],
   "source": [
    "fig, axes = plt.subplots(1, 1, sharex=True, figsize=(8,4))\n",
    "\n",
    "axes.plot(g_vec/(2*np.pi), nc_expt, 'r', linewidth=2, label=\"cavity\")\n",
    "axes.plot(g_vec/(2*np.pi), na_expt, 'b', linewidth=2, label=\"atom\")\n",
    "axes.set_ylabel(\"Occupation probability\", fontsize=16)\n",
    "axes.set_xlabel(\"coupling strenght\", fontsize=16)\n",
    "axes.legend(loc=0)\n",
    "\n",
    "fig.tight_layout()"
   ]
  },
  {
   "cell_type": "markdown",
   "id": "11bebde1",
   "metadata": {},
   "source": [
    "# Plot the wigner functions of the cavity as a function of coupling strength"
   ]
  },
  {
   "cell_type": "code",
   "execution_count": 31,
   "id": "b2b62db8",
   "metadata": {},
   "outputs": [
    {
     "ename": "TypeError",
     "evalue": "Input is not a quantum object",
     "output_type": "error",
     "traceback": [
      "\u001b[0;31m---------------------------------------------------------------------------\u001b[0m",
      "\u001b[0;31mTypeError\u001b[0m                                 Traceback (most recent call last)",
      "\u001b[0;32m/tmp/ipykernel_304/1293765995.py\u001b[0m in \u001b[0;36m<module>\u001b[0;34m\u001b[0m\n\u001b[1;32m      8\u001b[0m \u001b[0;34m\u001b[0m\u001b[0m\n\u001b[1;32m      9\u001b[0m \u001b[0;32mfor\u001b[0m \u001b[0midx\u001b[0m\u001b[0;34m,\u001b[0m \u001b[0mpsi\u001b[0m \u001b[0;32min\u001b[0m \u001b[0menumerate\u001b[0m\u001b[0;34m(\u001b[0m\u001b[0mpsi_sublist\u001b[0m\u001b[0;34m)\u001b[0m\u001b[0;34m:\u001b[0m\u001b[0;34m\u001b[0m\u001b[0;34m\u001b[0m\u001b[0m\n\u001b[0;32m---> 10\u001b[0;31m     \u001b[0mrho_cavity\u001b[0m \u001b[0;34m=\u001b[0m \u001b[0mptrace\u001b[0m\u001b[0;34m(\u001b[0m\u001b[0mpsi\u001b[0m\u001b[0;34m,\u001b[0m \u001b[0;36m0\u001b[0m\u001b[0;34m)\u001b[0m\u001b[0;34m\u001b[0m\u001b[0;34m\u001b[0m\u001b[0m\n\u001b[0m\u001b[1;32m     11\u001b[0m     \u001b[0mW\u001b[0m \u001b[0;34m=\u001b[0m \u001b[0mwigner\u001b[0m\u001b[0;34m(\u001b[0m\u001b[0mrho_cavity\u001b[0m\u001b[0;34m,\u001b[0m \u001b[0mxvec\u001b[0m\u001b[0;34m,\u001b[0m \u001b[0mxvec\u001b[0m\u001b[0;34m)\u001b[0m\u001b[0;34m\u001b[0m\u001b[0;34m\u001b[0m\u001b[0m\n\u001b[1;32m     12\u001b[0m     \u001b[0max\u001b[0m \u001b[0;34m=\u001b[0m \u001b[0mplt\u001b[0m\u001b[0;34m.\u001b[0m\u001b[0msubplot2grid\u001b[0m\u001b[0;34m(\u001b[0m\u001b[0mfig_grid\u001b[0m\u001b[0;34m,\u001b[0m \u001b[0;34m(\u001b[0m\u001b[0;36m0\u001b[0m\u001b[0;34m,\u001b[0m \u001b[0;36m2\u001b[0m\u001b[0;34m*\u001b[0m\u001b[0midx\u001b[0m\u001b[0;34m)\u001b[0m\u001b[0;34m,\u001b[0m \u001b[0mcolspan\u001b[0m\u001b[0;34m=\u001b[0m\u001b[0;36m2\u001b[0m\u001b[0;34m)\u001b[0m\u001b[0;34m\u001b[0m\u001b[0;34m\u001b[0m\u001b[0m\n",
      "\u001b[0;32m~/miniconda3/envs/qutip-env/lib/python3.9/site-packages/qutip/qobj.py\u001b[0m in \u001b[0;36mptrace\u001b[0;34m(Q, sel)\u001b[0m\n\u001b[1;32m   2223\u001b[0m     \"\"\"\n\u001b[1;32m   2224\u001b[0m     \u001b[0;32mif\u001b[0m \u001b[0;32mnot\u001b[0m \u001b[0misinstance\u001b[0m\u001b[0;34m(\u001b[0m\u001b[0mQ\u001b[0m\u001b[0;34m,\u001b[0m \u001b[0mQobj\u001b[0m\u001b[0;34m)\u001b[0m\u001b[0;34m:\u001b[0m\u001b[0;34m\u001b[0m\u001b[0;34m\u001b[0m\u001b[0m\n\u001b[0;32m-> 2225\u001b[0;31m         \u001b[0;32mraise\u001b[0m \u001b[0mTypeError\u001b[0m\u001b[0;34m(\u001b[0m\u001b[0;34m\"Input is not a quantum object\"\u001b[0m\u001b[0;34m)\u001b[0m\u001b[0;34m\u001b[0m\u001b[0;34m\u001b[0m\u001b[0m\n\u001b[0m\u001b[1;32m   2226\u001b[0m \u001b[0;34m\u001b[0m\u001b[0m\n\u001b[1;32m   2227\u001b[0m     \u001b[0;32mreturn\u001b[0m \u001b[0mQ\u001b[0m\u001b[0;34m.\u001b[0m\u001b[0mptrace\u001b[0m\u001b[0;34m(\u001b[0m\u001b[0msel\u001b[0m\u001b[0;34m)\u001b[0m\u001b[0;34m\u001b[0m\u001b[0;34m\u001b[0m\u001b[0m\n",
      "\u001b[0;31mTypeError\u001b[0m: Input is not a quantum object"
     ]
    },
    {
     "data": {
      "text/plain": [
       "<Figure size 1080x432 with 0 Axes>"
      ]
     },
     "metadata": {},
     "output_type": "display_data"
    }
   ],
   "source": [
    "g_idx = np.where([g_vec == 2*np.pi*g for g in [0.0, 0.5, 1.0, 1.5, 2.0]])[1]\n",
    "psi_sublist = np.array(psi_list)[g_idx]\n",
    "\n",
    "xvec = np.linspace(-5,5,200)\n",
    "\n",
    "fig_grid = (2, len(psi_sublist)*2)\n",
    "fig = plt.figure(figsize=(3*len(psi_sublist),6))\n",
    "\n",
    "for idx, psi in enumerate(psi_sublist):\n",
    "    rho_cavity = ptrace(psi, 0)\n",
    "    W = wigner(rho_cavity, xvec, xvec)\n",
    "    ax = plt.subplot2grid(fig_grid, (0, 2*idx), colspan=2)\n",
    "    ax.contourf(xvec, xvec, W, 100, norm=mpl.colors.Normalize(-.125,.125), cmap=plt.get_cmap('RdBu'))\n",
    "    ax.set_title(r\"$g = %.1f$\" % (g_vec[g_idx][idx]/(2*pi)), fontsize=16)\n",
    "\n",
    "# plot the cavity occupation probability in the ground state\n",
    "ax = plt.subplot2grid(fig_grid, (1, 1), colspan=(fig_grid[1]-2))\n",
    "ax.plot(g_vec/(2*pi), nc_expt, label=\"Cavity\")\n",
    "ax.plot(g_vec/(2*pi), na_expt, label=\"Atom excited state\")\n",
    "ax.legend(loc=0)\n",
    "ax.set_xlabel('coupling strength')\n",
    "ax.set_ylabel('Occupation probability')"
   ]
  },
  {
   "cell_type": "markdown",
   "id": "6a6f4b17",
   "metadata": {},
   "source": [
    "## Entropy of atom/cavity as a measure of entanglement"
   ]
  },
  {
   "cell_type": "code",
   "execution_count": null,
   "id": "b7c67510",
   "metadata": {},
   "outputs": [],
   "source": [
    "entropy_cavity = zeros(shape(g_vec))\n",
    "entropy_atom   = zeros(shape(g_vec))\n",
    "\n",
    "for idx, psi in enumerate(psi_list):\n",
    "    \n",
    "    rho_cavity = ptrace(psi, 0)\n",
    "    entropy_cavity[idx] = entropy_vn(rho_cavity, 2)\n",
    "\n",
    "    rho_atom = ptrace(psi, 1)\n",
    "    entropy_atom[idx]   = entropy_vn(rho_atom, 2)"
   ]
  },
  {
   "cell_type": "code",
   "execution_count": null,
   "id": "df0731bd",
   "metadata": {},
   "outputs": [],
   "source": [
    "fig, axes = plt.subplots(1, 1, figsize=(12,6))\n",
    "axes.plot(g_vec/(2*pi), entropy_cavity, 'b', label=\"cavity\", linewidth=2)\n",
    "axes.plot(g_vec/(2*pi), entropy_atom, 'r--', label=\"atom\", linewidth=2)\n",
    "axes.set_ylim(0,1)\n",
    "axes.set_ylabel(\"entropy\", fontsize=16)\n",
    "axes.set_xlabel(\"coupling strength\", fontsize=16)\n",
    "axes.legend(loc=0)"
   ]
  },
  {
   "cell_type": "markdown",
   "id": "caa4537d",
   "metadata": {},
   "source": [
    "## Dynamics of an initially excited cavity"
   ]
  },
  {
   "cell_type": "code",
   "execution_count": null,
   "id": "d980c307",
   "metadata": {},
   "outputs": [],
   "source": [
    "H = H0 + 1.0 * 2 * pi * H1\n",
    "\n",
    "psi0 = tensor(basis(N,1), basis(2,0))"
   ]
  },
  {
   "cell_type": "code",
   "execution_count": null,
   "id": "30e45b2a",
   "metadata": {},
   "outputs": [],
   "source": [
    "tlist = np.linspace(0, 20, 1000)\n",
    "output = mesolve(H, psi0, tlist, [], [a.dag() * a, sm.dag() * sm])"
   ]
  },
  {
   "cell_type": "code",
   "execution_count": null,
   "id": "fb26eca1",
   "metadata": {},
   "outputs": [],
   "source": [
    "fig, axes = plt.subplots(1, 1, sharex=True, figsize=(8,4))\n",
    "\n",
    "axes.plot(tlist, real(output.expect[0]), 'r', linewidth=2, label=\"cavity\")\n",
    "axes.plot(tlist, real(output.expect[1]), 'b', linewidth=2, label=\"atom\")\n",
    "axes.legend(loc=0)\n",
    "\n",
    "fig.tight_layout()"
   ]
  },
  {
   "cell_type": "markdown",
   "id": "c48eec54",
   "metadata": {},
   "source": [
    "### Fock-state distribution and Wigner function for the cavity as a function of time"
   ]
  },
  {
   "cell_type": "code",
   "execution_count": null,
   "id": "0b3f07e8",
   "metadata": {},
   "outputs": [],
   "source": [
    "tlist = np.linspace(0, 0.35, 8)\n",
    "output = mesolve(H, psi0, tlist, [], [])"
   ]
  },
  {
   "cell_type": "code",
   "execution_count": null,
   "id": "d07f8038",
   "metadata": {},
   "outputs": [],
   "source": [
    "rho_ss_sublist = output.states #[::4]\n",
    "\n",
    "xvec = np.linspace(-5,5,200)\n",
    "\n",
    "fig, axes = plt.subplots(2, len(rho_ss_sublist), figsize=(2*len(rho_ss_sublist), 4))\n",
    "\n",
    "for idx, rho_ss in enumerate(rho_ss_sublist):\n",
    "\n",
    "    # trace out the cavity density matrix\n",
    "    rho_ss_cavity = ptrace(rho_ss, 0)\n",
    "    \n",
    "    # calculate its wigner function\n",
    "    W = wigner(rho_ss_cavity, xvec, xvec)\n",
    "    \n",
    "    # plot its wigner function\n",
    "    axes[0,idx].contourf(xvec, xvec, W, 100, norm=mpl.colors.Normalize(-.25,.25), \n",
    "                         cmap=plt.get_cmap('RdBu'))\n",
    "\n",
    "    # plot its fock-state distribution\n",
    "    axes[1,idx].bar(arange(0, N), real(rho_ss_cavity.diag()), color=\"blue\", alpha=0.6)\n",
    "    axes[1,idx].set_ylim(0, 1)\n",
    "    axes[1,idx].set_xlim(0, N)"
   ]
  },
  {
   "cell_type": "markdown",
   "id": "7a405a83",
   "metadata": {},
   "source": [
    "### Same thing with a little bit of dissipation"
   ]
  },
  {
   "cell_type": "code",
   "execution_count": null,
   "id": "c9ff149b",
   "metadata": {},
   "outputs": [],
   "source": [
    "kappa = 0.25"
   ]
  },
  {
   "cell_type": "code",
   "execution_count": null,
   "id": "83b54f55",
   "metadata": {},
   "outputs": [],
   "source": [
    "tlist = np.linspace(0, 20, 1000)\n",
    "output = mesolve(H, psi0, tlist, [sqrt(kappa) * a], [a.dag() * a, sm.dag() * sm])"
   ]
  },
  {
   "cell_type": "code",
   "execution_count": null,
   "id": "9126612e",
   "metadata": {},
   "outputs": [],
   "source": [
    "fig, axes = plt.subplots(1, 1, sharex=True, figsize=(8,4))\n",
    "axes.plot(tlist, output.expect[0], 'r', linewidth=2, label=\"cavity\")\n",
    "axes.plot(tlist, output.expect[1], 'b', linewidth=2, label=\"atom\")\n",
    "axes.legend(loc=0)"
   ]
  },
  {
   "cell_type": "code",
   "execution_count": null,
   "id": "741f33b2",
   "metadata": {},
   "outputs": [],
   "source": [
    "tlist = np.linspace(0, 10, 8)\n",
    "output = mesolve(H, psi0, tlist, [sqrt(kappa) * a], [])"
   ]
  },
  {
   "cell_type": "code",
   "execution_count": null,
   "id": "9e3f2afa",
   "metadata": {},
   "outputs": [],
   "source": [
    "xvec = np.linspace(-5,5,200)\n",
    "\n",
    "fig, axes = plt.subplots(2, len(output.states), figsize=(2*len(output.states), 4))\n",
    "\n",
    "for idx, rho_ss in enumerate(output.states):\n",
    "\n",
    "    # trace out the cavity density matrix\n",
    "    rho_ss_cavity = ptrace(rho_ss, 0)\n",
    "    \n",
    "    # calculate its wigner function\n",
    "    W = wigner(rho_ss_cavity, xvec, xvec)\n",
    "    \n",
    "    # plot its wigner function\n",
    "    axes[0,idx].contourf(xvec, xvec, W, 100, \n",
    "                         norm=mpl.colors.Normalize(-.25,.25), cmap=plt.get_cmap('RdBu'))\n",
    "\n",
    "    # plot its fock-state distribution\n",
    "    axes[1,idx].bar(arange(0, N), real(rho_ss_cavity.diag()), color=\"blue\", alpha=0.6)\n",
    "    axes[1,idx].set_ylim(0, 1)\n",
    "    axes[1,idx].set_xlim(0, N)"
   ]
  },
  {
   "cell_type": "markdown",
   "id": "a88a3bcc",
   "metadata": {},
   "source": [
    "### Entropy as a function of time in presence of dissipation and starting in the ideal ground state"
   ]
  },
  {
   "cell_type": "code",
   "execution_count": null,
   "id": "bd856297",
   "metadata": {},
   "outputs": [],
   "source": [
    "tlist = np.linspace(0, 30, 50)\n",
    "\n",
    "psi0 = H.groundstate()[1]\n",
    "\n",
    "output = mesolve(H, psi0, tlist, [sqrt(kappa) * a], [])"
   ]
  },
  {
   "cell_type": "code",
   "execution_count": null,
   "id": "90aa021c",
   "metadata": {},
   "outputs": [],
   "source": [
    "entropy_tot    = zeros(shape(tlist))\n",
    "entropy_cavity = zeros(shape(tlist))\n",
    "entropy_atom   = zeros(shape(tlist))\n",
    "\n",
    "for idx, rho in enumerate(output.states):\n",
    "    \n",
    "    entropy_tot[idx] = entropy_vn(rho, 2)    \n",
    "    \n",
    "    rho_cavity = ptrace(rho, 0)\n",
    "    entropy_cavity[idx] = entropy_vn(rho_cavity, 2)\n",
    "\n",
    "    rho_atom = ptrace(rho, 1)\n",
    "    entropy_atom[idx]   = entropy_vn(rho_atom, 2)"
   ]
  },
  {
   "cell_type": "code",
   "execution_count": null,
   "id": "7c9c6b74",
   "metadata": {},
   "outputs": [],
   "source": [
    "fig, axes = plt.subplots(1, 1, figsize=(12,6))\n",
    "axes.plot(tlist, entropy_tot, 'k', label=\"total\", linewidth=2)\n",
    "axes.plot(tlist, entropy_cavity, 'b', label=\"cavity\", linewidth=2)\n",
    "axes.plot(tlist, entropy_atom, 'r--', label=\"atom\", linewidth=2)\n",
    "axes.set_ylabel(\"entropy\", fontsize=16)\n",
    "axes.set_xlabel(\"coupling strength\", fontsize=16)\n",
    "axes.set_ylim(0, 1.5)\n",
    "axes.legend(loc=0)"
   ]
  },
  {
   "cell_type": "markdown",
   "id": "7d709710",
   "metadata": {},
   "source": [
    "### Software versions"
   ]
  },
  {
   "cell_type": "code",
   "execution_count": null,
   "id": "50055b58",
   "metadata": {},
   "outputs": [],
   "source": [
    "from qutip.ipynbtools import version_table\n",
    "\n",
    "version_table()"
   ]
  }
 ],
 "metadata": {
  "kernelspec": {
   "display_name": "Python 3 (ipykernel)",
   "language": "python",
   "name": "python3"
  },
  "language_info": {
   "codemirror_mode": {
    "name": "ipython",
    "version": 3
   },
   "file_extension": ".py",
   "mimetype": "text/x-python",
   "name": "python",
   "nbconvert_exporter": "python",
   "pygments_lexer": "ipython3",
   "version": "3.9.7"
  }
 },
 "nbformat": 4,
 "nbformat_minor": 1
}
