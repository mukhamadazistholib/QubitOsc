{
 "cells": [
  {
   "cell_type": "markdown",
   "id": "42d6d0a1",
   "metadata": {},
   "source": [
    "# **Qutip qubit-oscillator**"
   ]
  },
  {
   "cell_type": "markdown",
   "id": "64bfea3c",
   "metadata": {},
   "source": [
    "## **Import Library**"
   ]
  },
  {
   "cell_type": "code",
   "execution_count": 2,
   "id": "4b1fc386",
   "metadata": {},
   "outputs": [],
   "source": [
    "from qutip import *"
   ]
  },
  {
   "cell_type": "code",
   "execution_count": 3,
   "id": "8eb8429c",
   "metadata": {},
   "outputs": [],
   "source": [
    "import numpy as np\n",
    "import matplotlib.pyplot as plt\n",
    "import matplotlib as mpl\n",
    "%matplotlib inline\n",
    "import math"
   ]
  },
  {
   "cell_type": "markdown",
   "id": "20761c86",
   "metadata": {},
   "source": [
    "### **Variasi $\\Delta=10$**"
   ]
  },
  {
   "cell_type": "code",
   "execution_count": 4,
   "id": "5e299c5f",
   "metadata": {},
   "outputs": [
    {
     "name": "stdout",
     "output_type": "stream",
     "text": [
      "WARNING: Ground state may be degenerate. Use Q.eigenstates()\n",
      "WARNING: Ground state may be degenerate. Use Q.eigenstates()\n",
      "WARNING: Ground state may be degenerate. Use Q.eigenstates()\n",
      "WARNING: Ground state may be degenerate. Use Q.eigenstates()\n",
      "WARNING: Ground state may be degenerate. Use Q.eigenstates()\n",
      "WARNING: Ground state may be degenerate. Use Q.eigenstates()\n",
      "WARNING: Ground state may be degenerate. Use Q.eigenstates()\n",
      "WARNING: Ground state may be degenerate. Use Q.eigenstates()\n",
      "WARNING: Ground state may be degenerate. Use Q.eigenstates()\n",
      "WARNING: Ground state may be degenerate. Use Q.eigenstates()\n"
     ]
    }
   ],
   "source": [
    "# Menentukan nilai Parameter\n",
    "wc = 2*np.pi         #frekuensi medan\n",
    "wa = 2*np.pi         #frekuensi atom\n",
    "N = 100               #jumlah n medan\n",
    "use_rwa = False\n",
    "g_list = np.linspace(0, 5, 101)*2*np.pi #kuat interaksi\n",
    " \n",
    "# Operator\n",
    "a = tensor(destroy(N), qeye(2))  #operator a\n",
    "sm = tensor(qeye(N), destroy(2)) #operator sigma-minus\n",
    "sz1 = tensor(qeye(N), sigmaz())  #operator sigma-z modifikasi\n",
    "sx1 = tensor(qeye(N), sigmax())  #operator sigma-x modifikasi\n",
    "op_p = -1j*(a - a.dag())/np.sqrt(2)\n",
    " \n",
    "# Hamiltonian Interaksi\n",
    "if use_rwa:\n",
    "    H1 = (a.dag() * sm + a * sm.dag())\n",
    "else:\n",
    "    H1 = (a.dag() + a) * (sm + sm.dag())\n",
    " \n",
    " \n",
    "# Hamiltonian eps/del = 0\n",
    "Ho = wc * a.dag() * a     # osilator\n",
    "Hq1 =  0.5*wa* (0*sx1 + 10*sz1)      #qubit\n",
    " \n",
    "# Menghitung Hamiltonian\n",
    "psi_list_1 = []\n",
    "E_list_1 = []\n",
    "for g in g_list:\n",
    "    # Hamiltonian total    \n",
    "    H = Ho + Hq1 + g * H1\n",
    " \n",
    "    eigen_energy, eigen_state = H.groundstate() \n",
    "    psi_list_1.append(eigen_state)\n",
    "    E_list_1.append(eigen_energy/(2*np.pi))\n",
    " \n",
    "# Hamiltonian eps/del = 0.1\n",
    "Ho = wc * a.dag() * a     # osilator\n",
    "Hq2 =  0.5*wa* (1*sx1 + 10*sz1)      #qubit\n",
    " \n",
    "# Menghitung Hamiltonian\n",
    "psi_list_2 = []\n",
    "E_list_2 = []\n",
    "for g in g_list:\n",
    "    # Hamiltonian total\n",
    "    H2 = Ho + Hq2 + g * H1\n",
    " \n",
    "    eigen_energy, eigen_state = H2.groundstate() \n",
    "    psi_list_2.append(eigen_state)\n",
    "    E_list_2.append(eigen_energy/(2*np.pi))\n",
    " \n",
    "# Hamiltonian eps/del = 0.5\n",
    "Ho = wc * a.dag() * a     # osilator\n",
    "Hq3 =  0.5*wa* (5*sx1 + 10*sz1)      #qubit\n",
    " \n",
    "# Menghitung Hamiltonian\n",
    "psi_list_3 = []\n",
    "E_list_3 = []\n",
    "for g in g_list:\n",
    "    # Hamiltonian total\n",
    "    H3 = Ho + Hq3 + g * H1\n",
    " \n",
    "    eigen_energy, eigen_state = H3.groundstate() \n",
    "    psi_list_3.append(eigen_state)\n",
    "    E_list_3.append(eigen_energy/(2*np.pi))\n",
    " \n",
    "# Hamiltonian eps/del = 1\n",
    "Ho = wc * a.dag() * a     # osilator\n",
    "Hq4 =  0.5*wa* (10*sx1 + 10*sz1)      #qubit\n",
    " \n",
    "# Menghitung Hamiltonian\n",
    "psi_list_4 = []\n",
    "E_list_4= []\n",
    "for g in g_list:\n",
    "    # Hamiltonian total\n",
    "    H4 = Ho + Hq4 + g * H1\n",
    " \n",
    "    eigen_energy, eigen_state = H4.groundstate() \n",
    "    psi_list_4.append(eigen_state)\n",
    "    E_list_4.append(eigen_energy/(2*np.pi))"
   ]
  },
  {
   "cell_type": "code",
   "execution_count": 5,
   "id": "3be11ca7",
   "metadata": {},
   "outputs": [],
   "source": [
    "sp1 = 2*variance(op_p, psi_list_1)-1\n",
    "sp2 = 2*variance(op_p, psi_list_2)-1\n",
    "sp3 = 2*variance(op_p, psi_list_3)-1\n",
    "sp4 = 2*variance(op_p, psi_list_4)-1"
   ]
  },
  {
   "cell_type": "code",
   "execution_count": 6,
   "id": "a259ef79",
   "metadata": {},
   "outputs": [
    {
     "data": {
      "image/png": "[encoded data removed]",
      "text/plain": [
       "<Figure size 432x432 with 1 Axes>"
      ]
     },
     "metadata": {
      "needs_background": "light"
     },
     "output_type": "display_data"
    }
   ],
   "source": [
    "fig, axes = plt.subplots(1, 1, sharex=True, figsize=(6,6))\n",
    " \n",
    "b = ['black', 'brown', 'red','orange', 'yellow', 'green', 'blue', 'purple', 'grey',  'black']\n",
    "\n",
    "axes.plot(g_list/(2*np.pi), sp1, 'blue', linewidth=1)\n",
    "axes.plot(g_list/(2*np.pi), sp2, 'green', linewidth=1, linestyle='--')\n",
    "axes.plot(g_list/(2*np.pi), sp3, 'red', linewidth=1, linestyle='dashdot')\n",
    "axes.plot(g_list/(2*np.pi), sp4, 'black', linewidth=1, linestyle='dotted')\n",
    " \n",
    "axes.set(xlim=(0, 5), ylim=(-0.65, 0))\n",
    "axes.set_ylabel(r\"$s_p$\", fontsize=20)\n",
    "axes.set_xlabel(r\"$\\frac{\\lambda}{\\hbar\\omega_{0}}$\", fontsize=20)\n",
    "#axes.grid('green')\n",
    "axes.tick_params(axis=\"x\", direction=\"in\", length=6, width=1)\n",
    "axes.tick_params(axis=\"y\", direction=\"in\", length=6, width=1)\n",
    "#plt.savefig('Plot_energi_kuat interaksi.pdf')"
   ]
  },
  {
   "cell_type": "markdown",
   "id": "95934347",
   "metadata": {},
   "source": [
    "### **Variasi $\\Delta=1$**"
   ]
  },
  {
   "cell_type": "code",
   "execution_count": 7,
   "id": "9a717c47",
   "metadata": {},
   "outputs": [
    {
     "name": "stdout",
     "output_type": "stream",
     "text": [
      "WARNING: Ground state may be degenerate. Use Q.eigenstates()\n",
      "WARNING: Ground state may be degenerate. Use Q.eigenstates()\n",
      "WARNING: Ground state may be degenerate. Use Q.eigenstates()\n",
      "WARNING: Ground state may be degenerate. Use Q.eigenstates()\n",
      "WARNING: Ground state may be degenerate. Use Q.eigenstates()\n",
      "WARNING: Ground state may be degenerate. Use Q.eigenstates()\n",
      "WARNING: Ground state may be degenerate. Use Q.eigenstates()\n",
      "WARNING: Ground state may be degenerate. Use Q.eigenstates()\n",
      "WARNING: Ground state may be degenerate. Use Q.eigenstates()\n",
      "WARNING: Ground state may be degenerate. Use Q.eigenstates()\n",
      "WARNING: Ground state may be degenerate. Use Q.eigenstates()\n"
     ]
    }
   ],
   "source": [
    "# Hamiltonian eps/del = 0\n",
    "Ho = wc * a.dag() * a     # osilator\n",
    "Hq1 =  0.5*wa* (0*sx1 + 1*sz1)      #qubit\n",
    "\n",
    "# Menghitung Hamiltonian\n",
    "psi_list_1 = []\n",
    "E_list_1 = []\n",
    "for g in g_list:\n",
    "    # Hamiltonian total\n",
    "    H = Ho + Hq1 + g * H1\n",
    "\n",
    "    eigen_energy, eigen_state = H.groundstate() \n",
    "    psi_list_1.append(eigen_state)\n",
    "    E_list_1.append(eigen_energy/(2*np.pi))\n",
    "\n",
    "# Hamiltonian eps/del = 0.1\n",
    "Ho = wc * a.dag() * a     # osilator\n",
    "Hq2 =  0.5*wa* (0.1*sx1 + 1*sz1)      #qubit\n",
    "\n",
    "# Menghitung Hamiltonian\n",
    "psi_list_2 = []\n",
    "E_list_2 = []\n",
    "for g in g_list:\n",
    "    # Hamiltonian total\n",
    "    H2 = Ho + Hq2 + g * H1\n",
    "\n",
    "    eigen_energy, eigen_state = H2.groundstate() \n",
    "    psi_list_2.append(eigen_state)\n",
    "    E_list_2.append(eigen_energy/(2*np.pi))\n",
    "\n",
    "# Hamiltonian eps/del = 0.5\n",
    "Ho = wc * a.dag() * a     # osilator\n",
    "Hq3 =  0.5*wa* (0.5*sx1 + 1*sz1)      #qubit\n",
    "\n",
    "# Menghitung Hamiltonian\n",
    "psi_list_3 = []\n",
    "E_list_3 = []\n",
    "for g in g_list:\n",
    "    # Hamiltonian total\n",
    "    H3 = Ho + Hq3 + g * H1\n",
    "\n",
    "    eigen_energy, eigen_state = H3.groundstate() \n",
    "    psi_list_3.append(eigen_state)\n",
    "    E_list_3.append(eigen_energy/(2*np.pi))\n",
    "\n",
    "# Hamiltonian eps/del = 1\n",
    "Ho = wc * a.dag() * a     # osilator\n",
    "Hq4 =  0.5*wa* (1*sx1 + 1*sz1)      #qubit\n",
    "\n",
    "# Menghitung Hamiltonian\n",
    "psi_list_4 = []\n",
    "E_list_4= []\n",
    "for g in g_list:\n",
    "    # Hamiltonian total\n",
    "    H4 = Ho + Hq4 + g * H1\n",
    "\n",
    "    eigen_energy, eigen_state = H4.groundstate() \n",
    "    psi_list_4.append(eigen_state)\n",
    "    E_list_4.append(eigen_energy/(2*np.pi))"
   ]
  },
  {
   "cell_type": "code",
   "execution_count": 8,
   "id": "d92d8faf",
   "metadata": {},
   "outputs": [],
   "source": [
    "sp1 = 2*variance(op_p, psi_list_1)-1\n",
    "sp2 = 2*variance(op_p, psi_list_2)-1\n",
    "sp3 = 2*variance(op_p, psi_list_3)-1\n",
    "sp4 = 2*variance(op_p, psi_list_4)-1"
   ]
  },
  {
   "cell_type": "code",
   "execution_count": 9,
   "id": "b7f347eb",
   "metadata": {},
   "outputs": [
    {
     "data": {
      "image/png": "[encoded data removed]",
      "text/plain": [
       "<Figure size 432x432 with 1 Axes>"
      ]
     },
     "metadata": {
      "needs_background": "light"
     },
     "output_type": "display_data"
    }
   ],
   "source": [
    "fig, axes = plt.subplots(1, 1, sharex=True, figsize=(6,6))\n",
    " \n",
    "axes.plot(g_list/(2*np.pi), sp1, 'blue', linewidth=1)\n",
    "axes.plot(g_list/(2*np.pi), sp2, 'green', linewidth=1, linestyle='--')\n",
    "axes.plot(g_list/(2*np.pi), sp3, 'red', linewidth=1, linestyle='dashdot')\n",
    "axes.plot(g_list/(2*np.pi), sp4, 'black', linewidth=1, linestyle='dotted')\n",
    " \n",
    "axes.set(xlim=(0, 2.5), ylim=(-0.249, 0))\n",
    "axes.set_ylabel(r\"$s_p$\", fontsize=20)\n",
    "axes.set_xlabel(r\"$\\frac{\\lambda}{\\hbar\\omega_{0}}$\", fontsize=20)\n",
    "#axes.grid('green')\n",
    "axes.tick_params(axis=\"x\", direction=\"in\", length=6, width=1)\n",
    "axes.tick_params(axis=\"y\", direction=\"in\", length=6, width=1)\n",
    "#plt.savefig('Plot_energi_kuat interaksi.pdf')"
   ]
  },
  {
   "cell_type": "markdown",
   "id": "e12f6d4d",
   "metadata": {},
   "source": [
    "### **Variasi $\\Delta=0.1$**"
   ]
  },
  {
   "cell_type": "code",
   "execution_count": null,
   "id": "3d481d37",
   "metadata": {},
   "outputs": [],
   "source": []
  }
 ],
 "metadata": {
  "kernelspec": {
   "display_name": "Python 3 (ipykernel)",
   "language": "python",
   "name": "python3"
  },
  "language_info": {
   "codemirror_mode": {
    "name": "ipython",
    "version": 3
   },
   "file_extension": ".py",
   "mimetype": "text/x-python",
   "name": "python",
   "nbconvert_exporter": "python",
   "pygments_lexer": "ipython3",
   "version": "3.9.6"
  }
 },
 "nbformat": 4,
 "nbformat_minor": 5
}
