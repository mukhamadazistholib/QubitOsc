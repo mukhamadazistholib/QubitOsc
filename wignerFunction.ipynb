{
 "cells": [
  {
   "cell_type": "code",
   "execution_count": 28,
   "id": "333bb559",
   "metadata": {},
   "outputs": [],
   "source": [
    "# setup the matplotlib graphics library and configure it to show \n",
    "# figures inline in the notebook\n",
    "%matplotlib inline\n",
    "import matplotlib.pyplot as plt\n",
    "import numpy as np"
   ]
  },
  {
   "cell_type": "code",
   "execution_count": 29,
   "id": "19ca1fbe",
   "metadata": {},
   "outputs": [],
   "source": [
    "# make qutip available in the rest of the notebook\n",
    "from qutip import *"
   ]
  },
  {
   "cell_type": "code",
   "execution_count": 30,
   "id": "481b650e",
   "metadata": {},
   "outputs": [],
   "source": [
    "#menentukan nilai Parameter\n",
    "wc = 2*np.pi         #frekuensi medan\n",
    "wa = 2*np.pi         #frekuensi atom\n",
    "N = 30               #jumlah n medan\n",
    "use_rwa = False\n",
    "g_list = np.linspace(0, 2.5, 101)*2*np.pi #kuat interaksi"
   ]
  },
  {
   "cell_type": "code",
   "execution_count": 31,
   "id": "e90a146b",
   "metadata": {},
   "outputs": [],
   "source": [
    "#operator\n",
    "a = tensor(destroy(N), qeye(2))  #operator a\n",
    "sm = tensor(qeye(N), destroy(2)) #operator sigma-minus\n",
    "sz1 = tensor(qeye(N), sigmaz())  #operator sigma-z modifikasi\n",
    "sx1 = tensor(qeye(N), sigmax())  #operator sigma-x modifikasi"
   ]
  },
  {
   "cell_type": "code",
   "execution_count": 32,
   "id": "20620c89",
   "metadata": {},
   "outputs": [],
   "source": [
    "# operators\n",
    "a  = tensor(destroy(N), qeye(2))\n",
    "sm = tensor(qeye(N), destroy(2))\n",
    "\n",
    "na = sm.dag() * sm  # atom\n",
    "nc = a.dag() * a    # cavity\n",
    "\n",
    "# decoupled Hamiltonian\n",
    "H0 = wc * a.dag() * a + wa * sm.dag() * sm\n",
    "\n",
    "# interaction Hamiltonian\n",
    "if use_rwa:\n",
    "    H1 = (a.dag() * sm + a * sm.dag())\n",
    "else:\n",
    "    H1 = (a.dag() + a) * (sm + sm.dag())"
   ]
  },
  {
   "cell_type": "code",
   "execution_count": 33,
   "id": "aad822dd",
   "metadata": {},
   "outputs": [],
   "source": [
    "g_vec = np.linspace(0, 2.0, 101) * 2 *np.pi # coupling strength vector\n",
    "\n",
    "psi_list = []\n",
    "\n",
    "for g in g_vec:\n",
    "\n",
    "    H = H0 + g * H1\n",
    "\n",
    "    # find the groundstate and its energy\n",
    "    gnd_energy, gnd_state = H.groundstate()\n",
    "    \n",
    "    # store the ground state\n",
    "    psi_list.append(gnd_state)"
   ]
  },
  {
   "cell_type": "code",
   "execution_count": 34,
   "id": "a9e1ea42",
   "metadata": {},
   "outputs": [],
   "source": [
    "na_expt = expect(na, psi_list) # qubit  occupation probability\n",
    "nc_expt = expect(nc, psi_list) # cavity occupation probability"
   ]
  },
  {
   "cell_type": "code",
   "execution_count": 63,
   "id": "8366a59c",
   "metadata": {},
   "outputs": [
    {
     "ename": "IndexError",
     "evalue": "tuple index out of range",
     "output_type": "error",
     "traceback": [
      "\u001b[0;31m---------------------------------------------------------------------------\u001b[0m",
      "\u001b[0;31mIndexError\u001b[0m                                Traceback (most recent call last)",
      "\u001b[0;32m/tmp/ipykernel_290/2873555342.py\u001b[0m in \u001b[0;36m<module>\u001b[0;34m\u001b[0m\n\u001b[0;32m----> 1\u001b[0;31m \u001b[0mg_idx\u001b[0m \u001b[0;34m=\u001b[0m \u001b[0mnp\u001b[0m\u001b[0;34m.\u001b[0m\u001b[0mwhere\u001b[0m\u001b[0;34m(\u001b[0m\u001b[0;34m[\u001b[0m\u001b[0mg_vec\u001b[0m \u001b[0;34m==\u001b[0m \u001b[0;36m2\u001b[0m\u001b[0;34m*\u001b[0m\u001b[0mnp\u001b[0m\u001b[0;34m.\u001b[0m\u001b[0mpi\u001b[0m\u001b[0;34m*\u001b[0m\u001b[0mg\u001b[0m \u001b[0;32mfor\u001b[0m \u001b[0mg\u001b[0m \u001b[0;32min\u001b[0m \u001b[0;34m[\u001b[0m\u001b[0;36m0.5\u001b[0m\u001b[0;34m,\u001b[0m \u001b[0;36m2.0\u001b[0m\u001b[0;34m,\u001b[0m \u001b[0;36m2.5\u001b[0m\u001b[0;34m,\u001b[0m \u001b[0;36m3.5\u001b[0m\u001b[0;34m]\u001b[0m\u001b[0;34m]\u001b[0m\u001b[0;34m)\u001b[0m\u001b[0;34m[\u001b[0m\u001b[0;36m1\u001b[0m\u001b[0;34m]\u001b[0m\u001b[0;34m\u001b[0m\u001b[0;34m\u001b[0m\u001b[0m\n\u001b[0m\u001b[1;32m      2\u001b[0m \u001b[0mpsi_sublist\u001b[0m \u001b[0;34m=\u001b[0m \u001b[0mnp\u001b[0m\u001b[0;34m.\u001b[0m\u001b[0marray\u001b[0m\u001b[0;34m(\u001b[0m\u001b[0mpsi_list\u001b[0m\u001b[0;34m)\u001b[0m\u001b[0;34m[\u001b[0m\u001b[0mg_idx\u001b[0m\u001b[0;34m]\u001b[0m\u001b[0;34m\u001b[0m\u001b[0;34m\u001b[0m\u001b[0m\n\u001b[1;32m      3\u001b[0m \u001b[0;34m\u001b[0m\u001b[0m\n\u001b[1;32m      4\u001b[0m \u001b[0mxvec\u001b[0m \u001b[0;34m=\u001b[0m \u001b[0mnp\u001b[0m\u001b[0;34m.\u001b[0m\u001b[0mlinspace\u001b[0m\u001b[0;34m(\u001b[0m\u001b[0;34m-\u001b[0m\u001b[0;36m4\u001b[0m\u001b[0;34m,\u001b[0m\u001b[0;36m4\u001b[0m\u001b[0;34m,\u001b[0m\u001b[0;36m2\u001b[0m\u001b[0;34m)\u001b[0m\u001b[0;34m\u001b[0m\u001b[0;34m\u001b[0m\u001b[0m\n\u001b[1;32m      5\u001b[0m \u001b[0;34m\u001b[0m\u001b[0m\n",
      "\u001b[0;31mIndexError\u001b[0m: tuple index out of range"
     ]
    }
   ],
   "source": [
    "g_idx = np.where([g_vec == 2*np.pi*g for g in [0.5, 2.0, 2.5, 3.5]])[1]\n",
    "psi_sublist = np.array(psi_list)[g_idx]\n",
    "\n",
    "xvec = np.linspace(-4,4,2)\n",
    "\n",
    "fig_grid = (2, len(psi_sublist)*2)\n",
    "fig = plt.figure(figsize=(3*len(psi_sublist),6))\n",
    "\n",
    "for idx, psi in enumerate(psi_sublist):\n",
    "    rho_cavity = ptrace(psi, 0)\n",
    "    W = wigner(rho_cavity, xvec, xvec)\n",
    "    ax = plt.subplot2grid(fig_grid, (0, 2*idx), colspan=2)\n",
    "    ax.contourf(xvec, xvec, W, 100, norm=mpl.colors.Normalize(-.125,.125), cmap=plt.get_cmap('RdBu'))\n",
    "    ax.set_title(r\"$g = %.1f$\" % (g_vec[g_idx][idx]/(2*pi)), fontsize=16)\n",
    "\n",
    "# plot the cavity occupation probability in the ground state\n",
    "ax = plt.subplot2grid(fig_grid, (1, 1), colspan=(fig_grid[1]-2))\n",
    "ax.plot(g_vec/(2*pi), nc_expt, label=\"Cavity\")\n",
    "ax.plot(g_vec/(2*pi), na_expt, label=\"Atom excited state\")\n",
    "ax.legend(loc=0)\n",
    "ax.set_xlabel('coupling strength')\n",
    "ax.set_ylabel('Occupation probability')"
   ]
  },
  {
   "cell_type": "code",
   "execution_count": null,
   "id": "756aed01",
   "metadata": {},
   "outputs": [],
   "source": []
  }
 ],
 "metadata": {
  "kernelspec": {
   "display_name": "Python 3 (ipykernel)",
   "language": "python",
   "name": "python3"
  },
  "language_info": {
   "codemirror_mode": {
    "name": "ipython",
    "version": 3
   },
   "file_extension": ".py",
   "mimetype": "text/x-python",
   "name": "python",
   "nbconvert_exporter": "python",
   "pygments_lexer": "ipython3",
   "version": "3.9.6"
  }
 },
 "nbformat": 4,
 "nbformat_minor": 5
}
