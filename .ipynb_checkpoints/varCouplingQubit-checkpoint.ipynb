{
 "cells": [
  {
   "cell_type": "code",
   "execution_count": 1,
   "metadata": {
    "colab": {
     "base_uri": "https://localhost:8080/"
    },
    "id": "x1U5o-7eYmsU",
    "outputId": "b4a1a236-6ca3-42fe-b5d4-96821d920faa"
   },
   "outputs": [
    {
     "name": "stdout",
     "output_type": "stream",
     "text": [
      "Requirement already satisfied: qutip in /home/oktavyanha/miniconda3/envs/qutip-env/lib/python3.9/site-packages (4.6.2)\n",
      "Requirement already satisfied: packaging in /home/oktavyanha/miniconda3/envs/qutip-env/lib/python3.9/site-packages (from qutip) (21.0)\n",
      "Requirement already satisfied: numpy>=1.16.6 in /home/oktavyanha/miniconda3/envs/qutip-env/lib/python3.9/site-packages (from qutip) (1.20.3)\n",
      "Requirement already satisfied: scipy>=1.0 in /home/oktavyanha/miniconda3/envs/qutip-env/lib/python3.9/site-packages (from qutip) (1.7.1)\n",
      "Requirement already satisfied: pyparsing>=2.0.2 in /home/oktavyanha/miniconda3/envs/qutip-env/lib/python3.9/site-packages (from packaging->qutip) (2.4.7)\n"
     ]
    }
   ],
   "source": [
    "!pip install qutip"
   ]
  },
  {
   "cell_type": "code",
   "execution_count": 2,
   "metadata": {
    "id": "9ChA5FrAYtao"
   },
   "outputs": [],
   "source": [
    "import numpy as np\n",
    "from qutip import *\n",
    "import matplotlib.pyplot as plt\n",
    "import matplotlib as mpl\n",
    "%matplotlib inline\n",
    "import math"
   ]
  },
  {
   "cell_type": "code",
   "execution_count": 3,
   "metadata": {
    "id": "FE4Mz3ZRY7ug"
   },
   "outputs": [],
   "source": [
    "#menentukan nilai Parameter\n",
    "wc = 2*np.pi         #frekuensi medan\n",
    "wa = 2*np.pi         #frekuensi atom\n",
    "N = 40              #jumlah n medan\n",
    "use_rwa = False\n",
    "g_list  = np.linspace(0, 10, 401)*2*np.pi   #kuat interaksi\n",
    "d_list  = [1000, 750, 500, 250, 100, 75, 50, 25, 10, 7.5, 5, 2.5, 1]          #kuat energi qubit"
   ]
  },
  {
   "cell_type": "code",
   "execution_count": 4,
   "metadata": {
    "id": "vmEfcZW4ZG7l"
   },
   "outputs": [],
   "source": [
    "#operator\n",
    "a = tensor(destroy(N), qeye(2))  #operator a\n",
    "sm = tensor(qeye(N), destroy(2)) #operator sigma-minus\n",
    "sz1 = tensor(qeye(N), sigmaz())  #operator sigma-z modifikasi\n",
    "sx1 = tensor(qeye(N), sigmax())  #operator sigma-x modifikasi"
   ]
  },
  {
   "cell_type": "code",
   "execution_count": 5,
   "metadata": {
    "id": "R-F9t2GbZOEz"
   },
   "outputs": [],
   "source": [
    "# Hamiltonian\n",
    "Ho = wc * a.dag() * a     # osilator\n",
    "Hq = 0.5 * wa * sz1      #qubit\n",
    "   \n",
    "# Hamiltonian Interaksi\n",
    "if use_rwa:\n",
    "    H1 = (a.dag() * sm + a * sm.dag())\n",
    "else:\n",
    "    H1 = (a.dag() + a) * (sm + sm.dag())"
   ]
  },
  {
   "cell_type": "markdown",
   "metadata": {
    "id": "pdKeA4jwF7nX"
   },
   "source": [
    "### **S = 0.5,  $\\Delta$ = (1000 sampai 1),  $\\lambda$ = (0 sampai 10)**"
   ]
  },
  {
   "cell_type": "code",
   "execution_count": 6,
   "metadata": {
    "id": "wrrhRtfEZuNa"
   },
   "outputs": [],
   "source": [
    "# Menghitung Hamiltonian \n",
    "psi_list = []\n",
    "E_list = []\n",
    "S = []\n",
    "for d in d_list:\n",
    "  psi_list1 = []\n",
    "  for g in g_list:\n",
    "    # Hamiltonian total\n",
    "    H = Ho + d*Hq + g * H1\n",
    "       \n",
    "    # menghitung state & energinya (terurut berdasar nilai lambda)\n",
    "    eigen_energy, eigen_state = H.groundstate() \n",
    "    psi_list1.append(eigen_state)\n",
    "\n",
    "  # menghitung partial trace densitas matriks\n",
    "  rho_q = []\n",
    "  for i in range(len(psi_list1)):\n",
    "    psi_value = psi_list1[i]*psi_list1[i].dag()\n",
    "    rho = psi_value.ptrace(1)\n",
    "    rho_q.append(rho)\n",
    "\n",
    "  # menghitung entropi\n",
    "  S1 = []\n",
    "  for i in range(len(rho_q)):\n",
    "    s_list = entropy_vn(rho_q[i],2)\n",
    "    S1.append(s_list)\n",
    "\n",
    "  psi_list.append(psi_list1)\n",
    "  S.append(S1)"
   ]
  },
  {
   "cell_type": "code",
   "execution_count": 7,
   "metadata": {
    "id": "ZvlGjgp_PLml"
   },
   "outputs": [],
   "source": [
    "# mencari nilai g dan d yang memenuhi syarat (s = 0.1)\n",
    "g_values = []\n",
    "d_values = []\n",
    "for d in range(len(S)):\n",
    "  for g in range(len(S[d])):\n",
    "    if round(S[d][g], 2) == 0.10:\n",
    "      g_values.append(g_list[g]/d_list[d])\n",
    "      d_values.append(wa/d_list[d])"
   ]
  },
  {
   "cell_type": "code",
   "execution_count": 8,
   "metadata": {},
   "outputs": [],
   "source": [
    "# mencari nilai g dan d yang memenuhi syarat (s = 0.5)\n",
    "g_values2 = []\n",
    "d_values2 = []\n",
    "for d in range(len(S)):\n",
    "  for g in range(len(S[d])):\n",
    "    if round(S[d][g], 2) == 0.50:\n",
    "      g_values2.append(g_list[g]/d_list[d])\n",
    "      d_values2.append(wa/d_list[d])"
   ]
  },
  {
   "cell_type": "code",
   "execution_count": 10,
   "metadata": {
    "colab": {
     "base_uri": "https://localhost:8080/",
     "height": 270
    },
    "id": "-lctDnmRQW_m",
    "outputId": "3a45464b-c2f9-469b-ce14-3967d802b6c6"
   },
   "outputs": [
    {
     "data": {
      "text/plain": [
       "Text(0.5, 0, '$\\\\frac{\\\\lambda}{\\\\hbar\\\\omega_{0}}$')"
      ]
     },
     "execution_count": 10,
     "metadata": {},
     "output_type": "execute_result"
    },
    {
     "data": {
      "image/png": "[encoded data removed]",
      "text/plain": [
       "<Figure size 288x216 with 1 Axes>"
      ]
     },
     "metadata": {
      "needs_background": "light"
     },
     "output_type": "display_data"
    }
   ],
   "source": [
    "fig, axes = plt.subplots(1, 1, sharex=True, figsize=(4,3))\n",
    " \n",
    "axes.plot(d_values, g_values, 'green', linewidth=1)\n",
    "axes.plot(d_values2, g_values2, 'blue', linewidth=1)\n",
    "\n",
    "plt.yscale(\"log\")\n",
    "plt.xscale(\"log\")\n",
    "plt.grid(True)\n",
    "\n",
    "axes.set_ylabel(r\"$\\frac{E}{\\hbar\\omega_{0}}$\", fontsize=20)\n",
    "axes.set_xlabel(r\"$\\frac{\\lambda}{\\hbar\\omega_{0}}$\", fontsize=20)"
   ]
  }
 ],
 "metadata": {
  "colab": {
   "collapsed_sections": [],
   "name": "varCouplingQubit.ipynb",
   "provenance": []
  },
  "kernelspec": {
   "display_name": "Python 3 (ipykernel)",
   "language": "python",
   "name": "python3"
  },
  "language_info": {
   "codemirror_mode": {
    "name": "ipython",
    "version": 3
   },
   "file_extension": ".py",
   "mimetype": "text/x-python",
   "name": "python",
   "nbconvert_exporter": "python",
   "pygments_lexer": "ipython3",
   "version": "3.9.7"
  }
 },
 "nbformat": 4,
 "nbformat_minor": 1
}
