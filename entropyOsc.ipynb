{
 "cells": [
  {
   "cell_type": "code",
   "execution_count": 1,
   "metadata": {
    "colab": {
     "base_uri": "https://localhost:8080/"
    },
    "executionInfo": {
     "elapsed": 2721,
     "status": "ok",
     "timestamp": 1632499825135,
     "user": {
      "displayName": "Oktavyan Hardiyono",
      "photoUrl": "https://lh3.googleusercontent.com/a-/AOh14Gjnr56-0HovkJSyOavlorNnBmxlcikz-KHJ0TvCAA=s64",
      "userId": "05922127738170400628"
     },
     "user_tz": -420
    },
    "id": "w1zTAMtEekCn",
    "outputId": "a3214b0c-edd0-4b13-eac1-5822129ec8a9"
   },
   "outputs": [],
   "source": [
    "import qutip"
   ]
  },
  {
   "cell_type": "code",
   "execution_count": 2,
   "metadata": {
    "executionInfo": {
     "elapsed": 1000,
     "status": "ok",
     "timestamp": 1632499826097,
     "user": {
      "displayName": "Oktavyan Hardiyono",
      "photoUrl": "https://lh3.googleusercontent.com/a-/AOh14Gjnr56-0HovkJSyOavlorNnBmxlcikz-KHJ0TvCAA=s64",
      "userId": "05922127738170400628"
     },
     "user_tz": -420
    },
    "id": "55cc816a"
   },
   "outputs": [],
   "source": [
    "import numpy as np\n",
    "from qutip import *\n",
    "import matplotlib.pyplot as plt\n",
    "import matplotlib as mpl\n",
    "%matplotlib inline\n",
    "import math"
   ]
  },
  {
   "cell_type": "code",
   "execution_count": 3,
   "metadata": {
    "executionInfo": {
     "elapsed": 127,
     "status": "ok",
     "timestamp": 1632499826102,
     "user": {
      "displayName": "Oktavyan Hardiyono",
      "photoUrl": "https://lh3.googleusercontent.com/a-/AOh14Gjnr56-0HovkJSyOavlorNnBmxlcikz-KHJ0TvCAA=s64",
      "userId": "05922127738170400628"
     },
     "user_tz": -420
    },
    "id": "955b1e65"
   },
   "outputs": [],
   "source": [
    "#menentukan nilai Parameter\n",
    "wc = 2*np.pi         #frekuensi medan\n",
    "wa = 2*np.pi         #frekuensi atom\n",
    "N = 40              #jumlah n medan\n",
    "use_rwa = False\n",
    "g_list = np.linspace(0, 5, 101)*2*np.pi #kuat interaksi"
   ]
  },
  {
   "cell_type": "code",
   "execution_count": 4,
   "metadata": {
    "executionInfo": {
     "elapsed": 126,
     "status": "ok",
     "timestamp": 1632499826108,
     "user": {
      "displayName": "Oktavyan Hardiyono",
      "photoUrl": "https://lh3.googleusercontent.com/a-/AOh14Gjnr56-0HovkJSyOavlorNnBmxlcikz-KHJ0TvCAA=s64",
      "userId": "05922127738170400628"
     },
     "user_tz": -420
    },
    "id": "7aa6c886"
   },
   "outputs": [],
   "source": [
    "#operator\n",
    "a = tensor(destroy(N), qeye(2))  #operator a\n",
    "sm = tensor(qeye(N), destroy(2)) #operator sigma-minus\n",
    "sz1 = tensor(qeye(N), sigmaz())  #operator sigma-z modifikasi\n",
    "sx1 = tensor(qeye(N), sigmax())  #operator sigma-x modifikasi"
   ]
  },
  {
   "cell_type": "markdown",
   "metadata": {
    "id": "xdKySnUYX4se"
   },
   "source": [
    "## **Variasi $\\hbar\\omega_0/\\Delta = 0.1$**"
   ]
  },
  {
   "cell_type": "markdown",
   "metadata": {
    "id": "gJift36TYhbd"
   },
   "source": [
    "### $\\epsilon/\\Delta =0$"
   ]
  },
  {
   "cell_type": "code",
   "execution_count": 5,
   "metadata": {
    "executionInfo": {
     "elapsed": 128,
     "status": "ok",
     "timestamp": 1632499826115,
     "user": {
      "displayName": "Oktavyan Hardiyono",
      "photoUrl": "https://lh3.googleusercontent.com/a-/AOh14Gjnr56-0HovkJSyOavlorNnBmxlcikz-KHJ0TvCAA=s64",
      "userId": "05922127738170400628"
     },
     "user_tz": -420
    },
    "id": "168ba995"
   },
   "outputs": [],
   "source": [
    "# Hamiltonian\n",
    "Ho = wc * a.dag() * a     # osilator\n",
    "Hq = 0.5 * wa* (0*sx1 + 10*sz1)      #qubit\n",
    "   \n",
    "# Hamiltonian Interaksi\n",
    "if use_rwa:\n",
    "    H1 = (a.dag() * sm + a * sm.dag())\n",
    "else:\n",
    "    H1 = (a.dag() + a) * (sm + sm.dag())"
   ]
  },
  {
   "cell_type": "code",
   "execution_count": 6,
   "metadata": {
    "executionInfo": {
     "elapsed": 138,
     "status": "ok",
     "timestamp": 1632499826134,
     "user": {
      "displayName": "Oktavyan Hardiyono",
      "photoUrl": "https://lh3.googleusercontent.com/a-/AOh14Gjnr56-0HovkJSyOavlorNnBmxlcikz-KHJ0TvCAA=s64",
      "userId": "05922127738170400628"
     },
     "user_tz": -420
    },
    "id": "f52f86e5"
   },
   "outputs": [],
   "source": [
    "# Menghitung Hamiltonian\n",
    "psi_list = []\n",
    "E_list = []\n",
    "\n",
    "for g in g_list:\n",
    "    # Hamiltonian total\n",
    "    H = Ho + Hq + g * H1\n",
    "    # H = Hamiltonian(omega_a=wa, omega_m=wc, g=g, n=N, a=a, sm=sm, rwa=use_rwa)\n",
    "       \n",
    "    # menghitung state & energinya (terurut berdasar nilai lambda)\n",
    "    eigen_energy, eigen_state = H.groundstate() \n",
    "    psi_list.append(eigen_state)\n"
   ]
  },
  {
   "cell_type": "code",
   "execution_count": 7,
   "metadata": {
    "executionInfo": {
     "elapsed": 153,
     "status": "ok",
     "timestamp": 1632499826155,
     "user": {
      "displayName": "Oktavyan Hardiyono",
      "photoUrl": "https://lh3.googleusercontent.com/a-/AOh14Gjnr56-0HovkJSyOavlorNnBmxlcikz-KHJ0TvCAA=s64",
      "userId": "05922127738170400628"
     },
     "user_tz": -420
    },
    "id": "bExqclKf2ozw"
   },
   "outputs": [],
   "source": [
    "rho_q = []\n",
    "for i in range(len(psi_list)):\n",
    "  psi_value = psi_list[i]*psi_list[i].dag()\n",
    "  rho = psi_value.ptrace(1)\n",
    "  rho_q.append(rho)"
   ]
  },
  {
   "cell_type": "code",
   "execution_count": 8,
   "metadata": {
    "executionInfo": {
     "elapsed": 124,
     "status": "ok",
     "timestamp": 1632499826165,
     "user": {
      "displayName": "Oktavyan Hardiyono",
      "photoUrl": "https://lh3.googleusercontent.com/a-/AOh14Gjnr56-0HovkJSyOavlorNnBmxlcikz-KHJ0TvCAA=s64",
      "userId": "05922127738170400628"
     },
     "user_tz": -420
    },
    "id": "vbHqCZyBN79h"
   },
   "outputs": [],
   "source": [
    "S = []\n",
    "for i in range(len(rho_q)):\n",
    "  s_list = entropy_vn(rho_q[i])/0.695\n",
    "  S.append(s_list)"
   ]
  },
  {
   "cell_type": "markdown",
   "metadata": {
    "id": "ot6SnT3zZN4E"
   },
   "source": [
    "### $\\epsilon/\\Delta = {0.1, 0.5, 1}$"
   ]
  },
  {
   "cell_type": "code",
   "execution_count": 9,
   "metadata": {
    "executionInfo": {
     "elapsed": 1499,
     "status": "ok",
     "timestamp": 1632499827551,
     "user": {
      "displayName": "Oktavyan Hardiyono",
      "photoUrl": "https://lh3.googleusercontent.com/a-/AOh14Gjnr56-0HovkJSyOavlorNnBmxlcikz-KHJ0TvCAA=s64",
      "userId": "05922127738170400628"
     },
     "user_tz": -420
    },
    "id": "rJzKQDuuY-_n"
   },
   "outputs": [],
   "source": [
    "S_list = []\n",
    "for j in [1, 5, 10]:\n",
    "  Hq2 = 0.5 * wa* (j*sx1 + 10*sz1)  \n",
    "\n",
    "  psi_list2 = []\n",
    "  E_list2 = []\n",
    "\n",
    "  for g in g_list:\n",
    "      H2 = Ho + Hq2 + g * H1\n",
    "      eigen_energy2, eigen_state2 = H2.groundstate() \n",
    "      psi_list2.append(eigen_state2)\n",
    "\n",
    "  rho_q2 = []\n",
    "  for i in range(len(psi_list2)):\n",
    "    psi_value = psi_list2[i]*psi_list2[i].dag()\n",
    "    rho = psi_value.ptrace(1)\n",
    "    rho_q2.append(rho)\n",
    "\n",
    "  S2 = []\n",
    "  for i in range(len(rho_q2)):\n",
    "    s_list = entropy_vn(rho_q2[i], 2)\n",
    "    S2.append(s_list)\n",
    "  S_list.append(S2)"
   ]
  },
  {
   "cell_type": "markdown",
   "metadata": {
    "id": "pUca5jdqbJNA"
   },
   "source": [
    "### **Plot Grafik Pertama**"
   ]
  },
  {
   "cell_type": "code",
   "execution_count": 10,
   "metadata": {
    "colab": {
     "base_uri": "https://localhost:8080/",
     "height": 238
    },
    "executionInfo": {
     "elapsed": 84,
     "status": "ok",
     "timestamp": 1632499827558,
     "user": {
      "displayName": "Oktavyan Hardiyono",
      "photoUrl": "https://lh3.googleusercontent.com/a-/AOh14Gjnr56-0HovkJSyOavlorNnBmxlcikz-KHJ0TvCAA=s64",
      "userId": "05922127738170400628"
     },
     "user_tz": -420
    },
    "id": "EaQZ5reSPJuj",
    "outputId": "7a7ae5c5-18e4-4ba6-bbdd-484e77343357"
   },
   "outputs": [
    {
     "data": {
      "image/png": "[encoded data removed]",
      "text/plain": [
       "<Figure size 432x360 with 1 Axes>"
      ]
     },
     "metadata": {
      "needs_background": "light"
     },
     "output_type": "display_data"
    }
   ],
   "source": [
    "fig, axes = plt.subplots(1, 1, sharex=True, figsize=(6, 5))\n",
    "\n",
    "axes.plot(g_list/(2*np.pi), S, 'blue', linewidth=2)\n",
    "axes.plot(g_list/(2*np.pi), S_list[0], 'green', linewidth=2, linestyle='dashed')\n",
    "axes.plot(g_list/(2*np.pi), S_list[1], 'orange', linewidth=2, linestyle='-.')\n",
    "axes.plot(g_list/(2*np.pi), S_list[2], 'red', linewidth=2, linestyle='dotted')\n",
    "\n",
    "axes.set(xlim=(0, 5), ylim=(0, 1))\n",
    "axes.set_ylabel(r\"$S \\;(entropy)$\", fontsize=20)\n",
    "axes.set_xlabel(r\"$\\lambda/\\hbar\\omega_{0}$\", fontsize=20)\n",
    "axes.set_title(r\"$\\hbar\\omega_0/\\Delta = 0.1$\", fontsize=25)\n",
    "\n",
    "axes.tick_params(axis=\"x\", direction=\"in\", length=8, width=1, labelsize=16)\n",
    "axes.tick_params(axis=\"y\", direction=\"in\", length=8, width=1, labelsize=16)\n",
    "axes.tick_params(axis=\"x\", direction=\"in\", length=8, width=1, labelsize=16)\n",
    "\n",
    "axes.grid()"
   ]
  },
  {
   "cell_type": "markdown",
   "metadata": {
    "id": "b7RLdQ5SgKp2"
   },
   "source": [
    "## **Variasi $\\hbar\\omega_0/\\Delta = 1$**"
   ]
  },
  {
   "cell_type": "code",
   "execution_count": 11,
   "metadata": {
    "colab": {
     "base_uri": "https://localhost:8080/",
     "height": 238
    },
    "executionInfo": {
     "elapsed": 1698,
     "status": "ok",
     "timestamp": 1632499829198,
     "user": {
      "displayName": "Oktavyan Hardiyono",
      "photoUrl": "https://lh3.googleusercontent.com/a-/AOh14Gjnr56-0HovkJSyOavlorNnBmxlcikz-KHJ0TvCAA=s64",
      "userId": "05922127738170400628"
     },
     "user_tz": -420
    },
    "id": "Me1bAOcygnoe",
    "outputId": "2b4a3fd9-5663-496b-da79-d8a844fe1ab1"
   },
   "outputs": [
    {
     "data": {
      "image/png": "[encoded data removed]",
      "text/plain": [
       "<Figure size 432x360 with 1 Axes>"
      ]
     },
     "metadata": {
      "needs_background": "light"
     },
     "output_type": "display_data"
    }
   ],
   "source": [
    "S_list1 = []\n",
    "for j in [0, 0.1, 0.5, 1]:\n",
    "  Hq2 = 0.5 * wa* (j*sx1 + 1*sz1)  \n",
    "\n",
    "  psi_list2 = []\n",
    "  E_list2 = []\n",
    "\n",
    "  for g in g_list:\n",
    "      H2 = Ho + Hq2 + g * H1\n",
    "      eigen_energy2, eigen_state2 = H2.groundstate() \n",
    "      psi_list2.append(eigen_state2)\n",
    "\n",
    "  rho_q2 = []\n",
    "  for i in range(len(psi_list2)):\n",
    "    psi_value = psi_list2[i]*psi_list2[i].dag()\n",
    "    rho = psi_value.ptrace(1)\n",
    "    rho_q2.append(rho)\n",
    "\n",
    "  S2 = []\n",
    "  for i in range(len(rho_q2)):\n",
    "    s_list = entropy_vn(rho_q2[i], 2)\n",
    "    S2.append(s_list)\n",
    "  S_list1.append(S2)\n",
    "\n",
    "fig, axes = plt.subplots(1, 1, sharex=True, figsize=(6, 5))\n",
    "\n",
    "axes.plot(g_list/(2*np.pi), S_list1[0], 'blue', linewidth=2)\n",
    "axes.plot(g_list/(2*np.pi), S_list1[1], 'green', linewidth=2, linestyle='dashed')\n",
    "axes.plot(g_list/(2*np.pi), S_list1[2], 'orange', linewidth=2, linestyle='-.')\n",
    "axes.plot(g_list/(2*np.pi), S_list1[3], 'red', linewidth=2, linestyle='dotted')\n",
    "\n",
    "axes.set(xlim=(0, 2.5), ylim=(0, 1))\n",
    "axes.set_ylabel(r\"$S \\;(entropy)$\", fontsize=20)\n",
    "axes.set_xlabel(r\"$\\lambda/\\hbar\\omega_{0}$\", fontsize=20)\n",
    "axes.set_title(r\"$\\hbar\\omega_0/\\Delta = 1$\", fontsize=25)\n",
    "\n",
    "axes.tick_params(axis=\"x\", direction=\"in\", length=8, width=1, labelsize=16)\n",
    "axes.tick_params(axis=\"y\", direction=\"in\", length=8, width=1, labelsize=16)\n",
    "\n",
    "axes.grid()"
   ]
  },
  {
   "cell_type": "markdown",
   "metadata": {
    "id": "CAq80-pYiiaX"
   },
   "source": [
    "## **Variasi $\\hbar\\omega_0/\\Delta = 10$**"
   ]
  },
  {
   "cell_type": "code",
   "execution_count": 12,
   "metadata": {
    "colab": {
     "base_uri": "https://localhost:8080/",
     "height": 238
    },
    "executionInfo": {
     "elapsed": 1158,
     "status": "ok",
     "timestamp": 1632499830318,
     "user": {
      "displayName": "Oktavyan Hardiyono",
      "photoUrl": "https://lh3.googleusercontent.com/a-/AOh14Gjnr56-0HovkJSyOavlorNnBmxlcikz-KHJ0TvCAA=s64",
      "userId": "05922127738170400628"
     },
     "user_tz": -420
    },
    "id": "zBv1CrmYi1Mj",
    "outputId": "09a19392-f157-4356-bf4b-e5e64d2eaaab"
   },
   "outputs": [
    {
     "data": {
      "image/png": "[encoded data removed]",
      "text/plain": [
       "<Figure size 432x360 with 1 Axes>"
      ]
     },
     "metadata": {
      "needs_background": "light"
     },
     "output_type": "display_data"
    }
   ],
   "source": [
    "S_list2 = []\n",
    "for j in [0, 0.01, 0.05, 0.1]:\n",
    "  Hq2 = 0.5 * wa* (j*sx1 + 0.1*sz1)  \n",
    "\n",
    "  psi_list2 = []\n",
    "  E_list2 = []\n",
    "\n",
    "  for g in g_list:\n",
    "      H2 = Ho + Hq2 + g * H1\n",
    "      eigen_energy2, eigen_state2 = H2.groundstate() \n",
    "      psi_list2.append(eigen_state2)\n",
    "\n",
    "  rho_q2 = []\n",
    "  for i in range(len(psi_list2)):\n",
    "    psi_value = psi_list2[i]*psi_list2[i].dag()\n",
    "    rho = psi_value.ptrace(1)\n",
    "    rho_q2.append(rho)\n",
    "\n",
    "  S2 = []\n",
    "  for i in range(len(rho_q2)):\n",
    "    s_list = entropy_vn(rho_q2[i], 2)\n",
    "    S2.append(s_list)\n",
    "  S_list2.append(S2)\n",
    "\n",
    "fig, axes = plt.subplots(1, 1, sharex=True, figsize=(6, 5))\n",
    "\n",
    "axes.plot(g_list/(2*np.pi), S_list2[0], 'blue', linewidth=2)\n",
    "axes.plot(g_list/(2*np.pi), S_list2[1], 'green', linewidth=2, linestyle='dashed')\n",
    "axes.plot(g_list/(2*np.pi), S_list2[2], 'orange', linewidth=2, linestyle='-.')\n",
    "axes.plot(g_list/(2*np.pi), S_list2[3], 'red', linewidth=2, linestyle='dotted')\n",
    "\n",
    "axes.set(xlim=(0, 2.5), ylim=(0, 1))\n",
    "axes.set_ylabel(r\"$S \\;(entropy)$\", fontsize=20)\n",
    "axes.set_xlabel(r\"$\\lambda/\\hbar\\omega_{0}$\", fontsize=20)\n",
    "axes.set_title(r\"$\\hbar\\omega_0/\\Delta = 10$\", fontsize=25)\n",
    "\n",
    "axes.tick_params(axis=\"x\", direction=\"in\", length=8, width=1, labelsize=16)\n",
    "axes.tick_params(axis=\"y\", direction=\"in\", length=8, width=1, labelsize=16)\n",
    "\n",
    "axes.grid()"
   ]
  }
 ],
 "metadata": {
  "colab": {
   "authorship_tag": "ABX9TyNZ0+dW0rXEaqtcuX/cGbqm",
   "collapsed_sections": [],
   "name": "Entropy.ipynb",
   "provenance": [],
   "toc_visible": true
  },
  "kernelspec": {
   "display_name": "Python 3 (ipykernel)",
   "language": "python",
   "name": "python3"
  },
  "language_info": {
   "codemirror_mode": {
    "name": "ipython",
    "version": 3
   },
   "file_extension": ".py",
   "mimetype": "text/x-python",
   "name": "python",
   "nbconvert_exporter": "python",
   "pygments_lexer": "ipython3",
   "version": "3.9.7"
  }
 },
 "nbformat": 4,
 "nbformat_minor": 1
}
