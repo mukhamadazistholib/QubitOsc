{
  "nbformat": 4,
  "nbformat_minor": 0,
  "metadata": {
    "colab": {
      "name": "varCouplingQubit.ipynb",
      "provenance": [],
      "collapsed_sections": []
    },
    "kernelspec": {
      "name": "python3",
      "display_name": "Python 3"
    },
    "language_info": {
      "name": "python"
    }
  },
  "cells": [
    {
      "cell_type": "code",
      "metadata": {
        "colab": {
          "base_uri": "https://localhost:8080/"
        },
        "id": "x1U5o-7eYmsU",
        "outputId": "84c807ac-51bb-433f-ca14-739c3f7715b6"
      },
      "source": [
        "!pip install qutip"
      ],
      "execution_count": null,
      "outputs": [
        {
          "output_type": "stream",
          "name": "stdout",
          "text": [
            "Requirement already satisfied: qutip in /usr/local/lib/python3.7/dist-packages (4.6.2)\n",
            "Requirement already satisfied: numpy>=1.16.6 in /usr/local/lib/python3.7/dist-packages (from qutip) (1.19.5)\n",
            "Requirement already satisfied: packaging in /usr/local/lib/python3.7/dist-packages (from qutip) (21.0)\n",
            "Requirement already satisfied: scipy>=1.0 in /usr/local/lib/python3.7/dist-packages (from qutip) (1.4.1)\n",
            "Requirement already satisfied: pyparsing>=2.0.2 in /usr/local/lib/python3.7/dist-packages (from packaging->qutip) (2.4.7)\n"
          ]
        }
      ]
    },
    {
      "cell_type": "code",
      "metadata": {
        "id": "9ChA5FrAYtao"
      },
      "source": [
        "import numpy as np\n",
        "from qutip import *\n",
        "import matplotlib.pyplot as plt\n",
        "import matplotlib as mpl\n",
        "%matplotlib inline\n",
        "import math"
      ],
      "execution_count": null,
      "outputs": []
    },
    {
      "cell_type": "code",
      "metadata": {
        "id": "FE4Mz3ZRY7ug"
      },
      "source": [
        "#menentukan nilai Parameter\n",
        "wc = 2*np.pi         #frekuensi medan\n",
        "wa = 2*np.pi         #frekuensi atom\n",
        "N = 40              #jumlah n medan\n",
        "use_rwa = False\n",
        "g_list  = np.linspace(0, 100, 651)*2*np.pi   #kuat interaksi\n",
        "d_list  = [1000, 750, 500, 250, 100, 75, 50, 25, 10, 7.5, 5, 2.5, 1, 0.75, 0.5, 0.25, 0.1, 0.075, 0.05]          #kuat energi qubit"
      ],
      "execution_count": null,
      "outputs": []
    },
    {
      "cell_type": "code",
      "metadata": {
        "id": "vmEfcZW4ZG7l"
      },
      "source": [
        "#operator\n",
        "a = tensor(destroy(N), qeye(2))  #operator a\n",
        "sm = tensor(qeye(N), destroy(2)) #operator sigma-minus\n",
        "sz1 = tensor(qeye(N), sigmaz())  #operator sigma-z modifikasi\n",
        "sx1 = tensor(qeye(N), sigmax())  #operator sigma-x modifikasi"
      ],
      "execution_count": null,
      "outputs": []
    },
    {
      "cell_type": "code",
      "metadata": {
        "id": "R-F9t2GbZOEz"
      },
      "source": [
        "# Hamiltonian\n",
        "Ho = wc * a.dag() * a     # osilator\n",
        "Hq = 0.5 * wa * sz1      #qubit\n",
        "   \n",
        "# Hamiltonian Interaksi\n",
        "if use_rwa:\n",
        "    H1 = (a.dag() * sm + a * sm.dag())\n",
        "else:\n",
        "    H1 = (a.dag() + a) * (sm + sm.dag())"
      ],
      "execution_count": null,
      "outputs": []
    },
    {
      "cell_type": "markdown",
      "metadata": {
        "id": "pdKeA4jwF7nX"
      },
      "source": [
        "### **S = 0.5,  $\\Delta$ = (1000 sampai 1),  $\\lambda$ = (0 sampai 10)**"
      ]
    },
    {
      "cell_type": "code",
      "metadata": {
        "id": "wrrhRtfEZuNa"
      },
      "source": [
        "# Menghitung Hamiltonian \n",
        "psi_list = []\n",
        "E_list = []\n",
        "S = []\n",
        "for d in d_list:\n",
        "  psi_list1 = []\n",
        "  for g in g_list:\n",
        "    # Hamiltonian total\n",
        "    H = Ho + Hq + g * H1\n",
        "       \n",
        "    # menghitung state & energinya (terurut berdasar nilai lambda)\n",
        "    eigen_energy, eigen_state = H.groundstate() \n",
        "    psi_list1.append(eigen_state)\n",
        "\n",
        "  # menghitung partial trace densitas matriks\n",
        "  rho_q = []\n",
        "  for i in range(len(psi_list1)):\n",
        "    psi_value = psi_list1[i]*psi_list1[i].dag()\n",
        "    rho = psi_value.ptrace(1)\n",
        "    rho_q.append(rho)\n",
        "\n",
        "  # menghitung entropi\n",
        "  S1 = []\n",
        "  for i in range(len(rho_q)):\n",
        "    s_list = entropy_vn(rho_q[i],2)\n",
        "    S1.append(s_list)\n",
        "\n",
        "  psi_list.append(psi_list1)\n",
        "  S.append(S1)\n",
        "\n",
        "# mencari nilai g dan d yang memenuhi syarat (s = 0.5)\n",
        "g_values = []\n",
        "d_values = []\n",
        "for d in range(len(S)):\n",
        "  for g in range(len(S[d])):\n",
        "    if round(S[d][g], 1) == 0.5:\n",
        "      g_values.append(g_list[g]/d_list[d])\n",
        "      d_values.append(wa/d_list[d])"
      ],
      "execution_count": null,
      "outputs": []
    },
    {
      "cell_type": "code",
      "metadata": {
        "id": "ZvlGjgp_PLml"
      },
      "source": [
        "# mencari nilai g dan d yang memenuhi syarat (s = 0.5)\n",
        "g_values2 = []\n",
        "d_values2 = []\n",
        "for d in range(len(S)):\n",
        "  for g in range(len(S[d])):\n",
        "    if round(S[d][g], 2) == 0.10:\n",
        "      g_values2.append(g_list[g]/d_list[d])\n",
        "      d_values2.append(wa/d_list[d])"
      ],
      "execution_count": null,
      "outputs": []
    },
    {
      "cell_type": "code",
      "metadata": {
        "colab": {
          "base_uri": "https://localhost:8080/",
          "height": 274
        },
        "id": "-lctDnmRQW_m",
        "outputId": "eaa24441-b7e1-43e6-e264-9d57efe22487"
      },
      "source": [
        "fig, axes = plt.subplots(1, 1, sharex=True, figsize=(4,3))\n",
        " \n",
        "axes.plot(d_values, g_values, 'blue', linewidth=1)\n",
        "axes.plot(d_values2, g_values2, 'green', linewidth=1)\n",
        "\n",
        "plt.yscale(\"log\")\n",
        "plt.xscale(\"log\")\n",
        "\n",
        "axes.set_ylabel(r\"$\\frac{E}{\\hbar\\omega_{0}}$\", fontsize=20)\n",
        "axes.set_xlabel(r\"$\\frac{\\lambda}{\\hbar\\omega_{0}}$\", fontsize=20)"
      ],
      "execution_count": null,
      "outputs": [
        {
          "output_type": "execute_result",
          "data": {
            "text/plain": [
              "Text(0.5, 0, '$\\\\frac{\\\\lambda}{\\\\hbar\\\\omega_{0}}$')"
            ]
          },
          "metadata": {},
          "execution_count": 8
        },
        {
          "output_type": "display_data",
          "data": {
            "image/png": "[encoded data removed]",
            "text/plain": [
              "<Figure size 288x216 with 1 Axes>"
            ]
          },
          "metadata": {
            "needs_background": "light"
          }
        }
      ]
    },
    {
      "cell_type": "code",
      "metadata": {
        "colab": {
          "base_uri": "https://localhost:8080/"
        },
        "id": "cnYF67oMS_Ux",
        "outputId": "24fd8179-b192-4f37-c25f-563cfc6198b4"
      },
      "source": [
        "g_values"
      ],
      "execution_count": null,
      "outputs": [
        {
          "output_type": "execute_result",
          "data": {
            "text/plain": [
              "[0.0038665755736489765,\n",
              " 0.005155434098198635,\n",
              " 0.007733151147297953,\n",
              " 0.015466302294595906,\n",
              " 0.03866575573648976,\n",
              " 0.05155434098198635,\n",
              " 0.07733151147297952,\n",
              " 0.15466302294595904,\n",
              " 0.38665755736489765,\n",
              " 0.5155434098198636,\n",
              " 0.7733151147297953,\n",
              " 1.5466302294595906,\n",
              " 3.8665755736489764,\n",
              " 5.1554340981986355,\n",
              " 7.733151147297953,\n",
              " 15.466302294595906,\n",
              " 38.665755736489764,\n",
              " 51.55434098198636,\n",
              " 77.33151147297953]"
            ]
          },
          "metadata": {},
          "execution_count": 9
        }
      ]
    }
  ]
}